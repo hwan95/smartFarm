{
 "cells": [
  {
   "cell_type": "code",
   "execution_count": 2,
   "metadata": {},
   "outputs": [
    {
     "name": "stdout",
     "output_type": "stream",
     "text": [
      "가입 완료되었습니다.!\n"
     ]
    }
   ],
   "source": [
    "# user 정보 기입\n",
    "from database import UserDatabase\n",
    "host = '172.16.10.57'\n",
    "user = 'test'\n",
    "password = 'test'\n",
    "database = 'mydb'\n",
    "db = UserDatabase(host, user , password, database)\n",
    "user_id = 'test_id'\n",
    "user_name = 'test_name'\n",
    "password = 'test_password'\n",
    "db.add_user(user_id, user_name, password)\n"
   ]
  },
  {
   "cell_type": "code",
   "execution_count": 12,
   "metadata": {},
   "outputs": [
    {
     "name": "stdout",
     "output_type": "stream",
     "text": [
      "Done\n"
     ]
    },
    {
     "data": {
      "text/plain": [
       "0"
      ]
     },
     "execution_count": 12,
     "metadata": {},
     "output_type": "execute_result"
    }
   ],
   "source": [
    "#site 정보 만들기\n",
    "from database import UserDatabase\n",
    "db = UserDatabase(\"localhost\", \"root\", \"1234\", \"mydb\")\n",
    "site_id = '03'\n",
    "user_id = '12345S'\n",
    "db.add_site(user_id, site_id)"
   ]
  },
  {
   "cell_type": "code",
   "execution_count": 3,
   "metadata": {},
   "outputs": [],
   "source": [
    "# 기상청 외부 데이터 받아오기 \n",
    "from WeatherDB import Weather\n",
    "service_key = \"Q8bq6Cu0SbunyPYsVSE5cMj3YcUciY0kFrfm0ltvzQjCu7KbRCmp/t+yP0mHR6XeQ9BIBAH4Il5Bc1si+wiqmA==\"\n",
    "site_id = '02'\n",
    "weather = Weather(db_host='172.16.10.57', db_user='test', db_password='test', db_name='mydb', service_key= service_key, nx = 98, ny = 73, site_id = site_id)\n",
    "weather_data = weather.get_weather_data()\n"
   ]
  },
  {
   "cell_type": "code",
   "execution_count": 3,
   "metadata": {},
   "outputs": [
    {
     "name": "stdout",
     "output_type": "stream",
     "text": [
      "격자 좌표는 (60, 127) 입니다.\n"
     ]
    }
   ],
   "source": [
    "# 주소 nx, ny값 받기\n",
    "import location\n",
    "\n",
    "level1 = '서울특별시'\n",
    "level2 = '종로구'\n",
    "level3 = '청운효자동'\n",
    "\n",
    "nx, ny = location.get_grid_coordinates(level1, level2, level3)\n",
    "\n",
    "if nx and ny:\n",
    "    print(f\"격자 좌표는 ({nx}, {ny}) 입니다.\")\n",
    "else:\n",
    "    print(\"격자 좌표를 찾을 수 없습니다.\")\n",
    "\n",
    "   \n"
   ]
  },
  {
   "cell_type": "code",
   "execution_count": 5,
   "metadata": {},
   "outputs": [
    {
     "ename": "NameError",
     "evalue": "name 'cursor' is not defined",
     "output_type": "error",
     "traceback": [
      "\u001b[1;31m---------------------------------------------------------------------------\u001b[0m",
      "\u001b[1;31mNameError\u001b[0m                                 Traceback (most recent call last)",
      "Cell \u001b[1;32mIn[5], line 19\u001b[0m\n\u001b[0;32m     16\u001b[0m     \u001b[39melse\u001b[39;00m:\n\u001b[0;32m     17\u001b[0m         \u001b[39mreturn\u001b[39;00m jsonify({\u001b[39m'\u001b[39m\u001b[39mmessage\u001b[39m\u001b[39m'\u001b[39m: \u001b[39m'\u001b[39m\u001b[39mSite not found\u001b[39m\u001b[39m'\u001b[39m}), \u001b[39m404\u001b[39m\n\u001b[1;32m---> 19\u001b[0m data \u001b[39m=\u001b[39m test(\u001b[39m'\u001b[39;49m\u001b[39m12345S\u001b[39;49m\u001b[39m'\u001b[39;49m)\n",
      "Cell \u001b[1;32mIn[5], line 12\u001b[0m, in \u001b[0;36mtest\u001b[1;34m(user_id)\u001b[0m\n\u001b[0;32m     10\u001b[0m curs \u001b[39m=\u001b[39m db\u001b[39m.\u001b[39mcursor()\n\u001b[0;32m     11\u001b[0m curs\u001b[39m.\u001b[39mexecute(sql, values)\n\u001b[1;32m---> 12\u001b[0m site_data \u001b[39m=\u001b[39m cursor\u001b[39m.\u001b[39mfetchall()\n\u001b[0;32m     13\u001b[0m \u001b[39mif\u001b[39;00m site_data:\n\u001b[0;32m     14\u001b[0m     site_list \u001b[39m=\u001b[39m [{\u001b[39m'\u001b[39m\u001b[39msite_id\u001b[39m\u001b[39m'\u001b[39m: site[\u001b[39m0\u001b[39m], \u001b[39m'\u001b[39m\u001b[39msite_name\u001b[39m\u001b[39m'\u001b[39m: site[\u001b[39m1\u001b[39m]} \u001b[39mfor\u001b[39;00m site \u001b[39min\u001b[39;00m site_data]\n",
      "\u001b[1;31mNameError\u001b[0m: name 'cursor' is not defined"
     ]
    }
   ],
   "source": [
    "import pymysql\n",
    "def test(user_id):    \n",
    "    sql = 'SELECT * FROM mydb.sites WHERE users_user_id = %s'\n",
    "    values = user_id\n",
    "    host = '172.16.10.57'\n",
    "    user = 'test'\n",
    "    password = 'test'\n",
    "    database = 'mydb'\n",
    "    db = pymysql.connect(host= host, user =user, password =password, database=database)\n",
    "    curs = db.cursor()\n",
    "    curs.execute(sql, values)\n",
    "    site_data = cursor.fetchall()\n",
    "    if site_data:\n",
    "        site_list = [{'site_id': site[0], 'site_name': site[1]} for site in site_data]\n",
    "        return jsonify(site_list)\n",
    "    else:\n",
    "        return jsonify({'message': 'Site not found'}), 404\n",
    "\n",
    "data = test('12345S')"
   ]
  },
  {
   "cell_type": "code",
   "execution_count": 11,
   "metadata": {},
   "outputs": [
    {
     "name": "stdout",
     "output_type": "stream",
     "text": [
      "[{'site_id': '02', 'site_name': '12345S'}, {'site_id': '03', 'site_name': '12345S'}]\n"
     ]
    }
   ],
   "source": [
    "import pymysql\n",
    "from flask import jsonify\n",
    "\n",
    "host = '172.16.10.57'\n",
    "user = 'test'\n",
    "password = 'test'\n",
    "database = 'mydb'\n",
    "db = pymysql.connect(host= host, user =user, password =password, database=database)\n",
    "\n",
    "user_id ='12345S'\n",
    "curs = db.cursor()\n",
    "sql = 'SELECT * FROM mydb.sites WHERE users_user_id = %s'\n",
    "values = user_id\n",
    "curs.execute(sql, values)\n",
    "\n",
    "site_data = curs.fetchall()\n",
    "if site_data:\n",
    "    site_list = [{'site_id': site[0], 'site_name': site[1]} for site in site_data]\n",
    "    data = site_list\n",
    "else:\n",
    "    data = 'error'\n",
    "print( data)"
   ]
  },
  {
   "cell_type": "code",
   "execution_count": 20,
   "metadata": {},
   "outputs": [],
   "source": [
    "\n",
    "\n",
    "def change_password(user_id, current_password, new_password, confirm_password):\n",
    "    host = '172.16.10.57'\n",
    "    user = 'test'\n",
    "    password = 'test'\n",
    "    database = 'mydb'\n",
    "    db = pymysql.connect(host= host, user =user, password =password, database=database)\n",
    "    #비밀번호 확인값 확인\n",
    "    if current_password != new_password :\n",
    "        return print(\"비밀번호가 같지 않습니다\")\n",
    "    \n",
    "\n",
    "    # 현재 비밀번호가 맞는지 확인\n",
    "    cursor = db.cursor()\n",
    "    sql = 'SELECT * FROM mydb.users WHERE user_id = %s AND password = %s'\n",
    "    values = (user_id, current_password)\n",
    "    cursor.execute(sql, values)\n",
    "    user = cursor.fetchone()\n",
    "    if user is None:\n",
    "        # return jsonify({'message': 'Invalid current password.'}), 400\n",
    "        return print(\"현재 비밀번호가 틀렸습니다\")\n",
    "    \n",
    "    # 새 비밀번호로 업데이트하기\n",
    "    sql = 'UPDATE mydb.users SET password = %s WHERE user_id = %s'\n",
    "    values = (new_password, user_id)\n",
    "    cursor.execute(sql, values)\n",
    "    db.commit()\n",
    "    db.close()\n",
    "    return print(\"비밀번호 변경완료\")\n",
    "    "
   ]
  },
  {
   "cell_type": "code",
   "execution_count": 21,
   "metadata": {},
   "outputs": [
    {
     "name": "stdout",
     "output_type": "stream",
     "text": [
      "비밀번호가 같지 않습니다\n"
     ]
    }
   ],
   "source": [
    "user_id = 'new'\n",
    "current_password = 'new'\n",
    "new_password ='new2'\n",
    "confirm_password = 'new3'\n",
    "change_password(user_id, current_password, new_password, confirm_password)"
   ]
  },
  {
   "cell_type": "code",
   "execution_count": 5,
   "metadata": {},
   "outputs": [
    {
     "name": "stdout",
     "output_type": "stream",
     "text": [
      "[]\n"
     ]
    }
   ],
   "source": [
    "from datetime import datetime\n",
    "import pymysql\n",
    "host = '172.16.10.57'\n",
    "user = 'test'\n",
    "password = 'test'\n",
    "database = 'mydb'\n",
    "db = pymysql.connect(host= host, user =user, password =password, database=database)\n",
    "cursor = db.cursor()\n",
    "now = datetime.now()\n",
    "date = now.strftime(\"%Y%m%d\")  # 현재 날짜\n",
    "# time = now.strftime('%H%M')[:-1] + '0' # 10분단위\n",
    "time = now.strftime(\"%H00\")\n",
    "site_id ='02'\n",
    "sql = f\"SELECT * FROM mydb.external WHERE sites_site_id= %s AND ex_date = %s AND ex_time = %s \"\n",
    "values = (site_id, date, time)\n",
    "cursor.execute(sql, values)\n",
    "data = cursor.fetchall()\n",
    "# 컬럼명 리스트 가져오기\n",
    "columns = [col[0] for col in cursor.description]\n",
    "    \n",
    "    # 컬럼명과 데이터 합치기\n",
    "result = []\n",
    "for row in data:\n",
    "    row_dict = {}\n",
    "    for i, value in enumerate(row):\n",
    "        row_dict[columns[i]] = value\n",
    "    result.append(row_dict)\n",
    "print(result)"
   ]
  },
  {
   "cell_type": "code",
   "execution_count": 38,
   "metadata": {},
   "outputs": [
    {
     "ename": "RuntimeError",
     "evalue": "Working outside of application context.\n\nThis typically means that you attempted to use functionality that needed\nthe current application. To solve this, set up an application context\nwith app.app_context(). See the documentation for more information.",
     "output_type": "error",
     "traceback": [
      "\u001b[1;31m---------------------------------------------------------------------------\u001b[0m",
      "\u001b[1;31mRuntimeError\u001b[0m                              Traceback (most recent call last)",
      "Cell \u001b[1;32mIn[38], line 2\u001b[0m\n\u001b[0;32m      1\u001b[0m \u001b[39mfrom\u001b[39;00m \u001b[39mflask\u001b[39;00m \u001b[39mimport\u001b[39;00m jsonify\n\u001b[1;32m----> 2\u001b[0m jsonify(result)\n",
      "File \u001b[1;32mc:\\Users\\shyu\\Anaconda3\\envs\\smartfarm\\lib\\site-packages\\flask\\json\\__init__.py:342\u001b[0m, in \u001b[0;36mjsonify\u001b[1;34m(*args, **kwargs)\u001b[0m\n\u001b[0;32m    310\u001b[0m \u001b[39mdef\u001b[39;00m \u001b[39mjsonify\u001b[39m(\u001b[39m*\u001b[39margs: t\u001b[39m.\u001b[39mAny, \u001b[39m*\u001b[39m\u001b[39m*\u001b[39mkwargs: t\u001b[39m.\u001b[39mAny) \u001b[39m-\u001b[39m\u001b[39m>\u001b[39m Response:\n\u001b[0;32m    311\u001b[0m \u001b[39m    \u001b[39m\u001b[39m\"\"\"Serialize the given arguments as JSON, and return a\u001b[39;00m\n\u001b[0;32m    312\u001b[0m \u001b[39m    :class:`~flask.Response` object with the ``application/json``\u001b[39;00m\n\u001b[0;32m    313\u001b[0m \u001b[39m    mimetype. A dict or list returned from a view will be converted to a\u001b[39;00m\n\u001b[1;32m   (...)\u001b[0m\n\u001b[0;32m    340\u001b[0m \u001b[39m    .. versionadded:: 0.2\u001b[39;00m\n\u001b[0;32m    341\u001b[0m \u001b[39m    \"\"\"\u001b[39;00m\n\u001b[1;32m--> 342\u001b[0m     \u001b[39mreturn\u001b[39;00m current_app\u001b[39m.\u001b[39;49mjson\u001b[39m.\u001b[39mresponse(\u001b[39m*\u001b[39margs, \u001b[39m*\u001b[39m\u001b[39m*\u001b[39mkwargs)\n",
      "File \u001b[1;32m~\\AppData\\Roaming\\Python\\Python39\\site-packages\\werkzeug\\local.py:316\u001b[0m, in \u001b[0;36m_ProxyLookup.__get__\u001b[1;34m(self, instance, owner)\u001b[0m\n\u001b[0;32m    313\u001b[0m     \u001b[39mreturn\u001b[39;00m \u001b[39mself\u001b[39m\n\u001b[0;32m    315\u001b[0m \u001b[39mtry\u001b[39;00m:\n\u001b[1;32m--> 316\u001b[0m     obj \u001b[39m=\u001b[39m instance\u001b[39m.\u001b[39;49m_get_current_object()\n\u001b[0;32m    317\u001b[0m \u001b[39mexcept\u001b[39;00m \u001b[39mRuntimeError\u001b[39;00m:\n\u001b[0;32m    318\u001b[0m     \u001b[39mif\u001b[39;00m \u001b[39mself\u001b[39m\u001b[39m.\u001b[39mfallback \u001b[39mis\u001b[39;00m \u001b[39mNone\u001b[39;00m:\n",
      "File \u001b[1;32m~\\AppData\\Roaming\\Python\\Python39\\site-packages\\werkzeug\\local.py:513\u001b[0m, in \u001b[0;36mLocalProxy.__init__.<locals>._get_current_object\u001b[1;34m()\u001b[0m\n\u001b[0;32m    511\u001b[0m     obj \u001b[39m=\u001b[39m local\u001b[39m.\u001b[39mget()  \u001b[39m# type: ignore[union-attr]\u001b[39;00m\n\u001b[0;32m    512\u001b[0m \u001b[39mexcept\u001b[39;00m \u001b[39mLookupError\u001b[39;00m:\n\u001b[1;32m--> 513\u001b[0m     \u001b[39mraise\u001b[39;00m \u001b[39mRuntimeError\u001b[39;00m(unbound_message) \u001b[39mfrom\u001b[39;00m \u001b[39mNone\u001b[39m\n\u001b[0;32m    515\u001b[0m \u001b[39mreturn\u001b[39;00m get_name(obj)\n",
      "\u001b[1;31mRuntimeError\u001b[0m: Working outside of application context.\n\nThis typically means that you attempted to use functionality that needed\nthe current application. To solve this, set up an application context\nwith app.app_context(). See the documentation for more information."
     ]
    }
   ],
   "source": [
    "from flask import jsonify\n",
    "jsonify(result)"
   ]
  }
 ],
 "metadata": {
  "kernelspec": {
   "display_name": "smartfarm",
   "language": "python",
   "name": "python3"
  },
  "language_info": {
   "codemirror_mode": {
    "name": "ipython",
    "version": 3
   },
   "file_extension": ".py",
   "mimetype": "text/x-python",
   "name": "python",
   "nbconvert_exporter": "python",
   "pygments_lexer": "ipython3",
   "version": "3.9.16"
  },
  "orig_nbformat": 4
 },
 "nbformat": 4,
 "nbformat_minor": 2
}
