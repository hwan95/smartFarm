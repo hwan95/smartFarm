{
 "cells": [
  {
   "cell_type": "code",
   "execution_count": 2,
   "metadata": {},
   "outputs": [
    {
     "name": "stdout",
     "output_type": "stream",
     "text": [
      "가입 완료되었습니다.!\n"
     ]
    }
   ],
   "source": [
    "# user 정보 기입\n",
    "from database import UserDatabase\n",
    "host = '172.16.10.57'\n",
    "user = 'test'\n",
    "password = 'test'\n",
    "database = 'mydb'\n",
    "db = UserDatabase(host, user , password, database)\n",
    "user_id = 'test_id'\n",
    "user_name = 'test_name'\n",
    "password = 'test_password'\n",
    "db.add_user(user_id, user_name, password)\n"
   ]
  },
  {
   "cell_type": "code",
   "execution_count": 12,
   "metadata": {},
   "outputs": [
    {
     "name": "stdout",
     "output_type": "stream",
     "text": [
      "Done\n"
     ]
    },
    {
     "data": {
      "text/plain": [
       "0"
      ]
     },
     "execution_count": 12,
     "metadata": {},
     "output_type": "execute_result"
    }
   ],
   "source": [
    "#site 정보 만들기\n",
    "from database import UserDatabase\n",
    "db = UserDatabase(\"localhost\", \"root\", \"1234\", \"mydb\")\n",
    "site_id = '03'\n",
    "user_id = '12345S'\n",
    "db.add_site(user_id, site_id)"
   ]
  },
  {
   "cell_type": "code",
   "execution_count": 1,
   "metadata": {},
   "outputs": [],
   "source": [
    "# 기상청 외부 데이터 받아오기 \n",
    "from WeatherDB import Weather\n",
    "service_key = \"Q8bq6Cu0SbunyPYsVSE5cMj3YcUciY0kFrfm0ltvzQjCu7KbRCmp/t+yP0mHR6XeQ9BIBAH4Il5Bc1si+wiqmA==\"\n",
    "site_id = '02'\n",
    "weather = Weather(db_host='localhost', db_user='root', db_password='1234', db_name='mydb', service_key= service_key, nx = 98, ny = 73, site_id = site_id)\n",
    "weather_data = weather.get_weather_data()\n"
   ]
  },
  {
   "cell_type": "code",
   "execution_count": 3,
   "metadata": {},
   "outputs": [
    {
     "name": "stdout",
     "output_type": "stream",
     "text": [
      "격자 좌표는 (60, 127) 입니다.\n"
     ]
    }
   ],
   "source": [
    "# 주소 nx, ny값 받기\n",
    "import location\n",
    "\n",
    "level1 = '서울특별시'\n",
    "level2 = '종로구'\n",
    "level3 = '청운효자동'\n",
    "\n",
    "nx, ny = location.get_grid_coordinates(level1, level2, level3)\n",
    "\n",
    "if nx and ny:\n",
    "    print(f\"격자 좌표는 ({nx}, {ny}) 입니다.\")\n",
    "else:\n",
    "    print(\"격자 좌표를 찾을 수 없습니다.\")\n",
    "\n",
    "   \n"
   ]
  },
  {
   "cell_type": "code",
   "execution_count": 5,
   "metadata": {},
   "outputs": [
    {
     "ename": "NameError",
     "evalue": "name 'cursor' is not defined",
     "output_type": "error",
     "traceback": [
      "\u001b[1;31m---------------------------------------------------------------------------\u001b[0m",
      "\u001b[1;31mNameError\u001b[0m                                 Traceback (most recent call last)",
      "Cell \u001b[1;32mIn[5], line 19\u001b[0m\n\u001b[0;32m     16\u001b[0m     \u001b[39melse\u001b[39;00m:\n\u001b[0;32m     17\u001b[0m         \u001b[39mreturn\u001b[39;00m jsonify({\u001b[39m'\u001b[39m\u001b[39mmessage\u001b[39m\u001b[39m'\u001b[39m: \u001b[39m'\u001b[39m\u001b[39mSite not found\u001b[39m\u001b[39m'\u001b[39m}), \u001b[39m404\u001b[39m\n\u001b[1;32m---> 19\u001b[0m data \u001b[39m=\u001b[39m test(\u001b[39m'\u001b[39;49m\u001b[39m12345S\u001b[39;49m\u001b[39m'\u001b[39;49m)\n",
      "Cell \u001b[1;32mIn[5], line 12\u001b[0m, in \u001b[0;36mtest\u001b[1;34m(user_id)\u001b[0m\n\u001b[0;32m     10\u001b[0m curs \u001b[39m=\u001b[39m db\u001b[39m.\u001b[39mcursor()\n\u001b[0;32m     11\u001b[0m curs\u001b[39m.\u001b[39mexecute(sql, values)\n\u001b[1;32m---> 12\u001b[0m site_data \u001b[39m=\u001b[39m cursor\u001b[39m.\u001b[39mfetchall()\n\u001b[0;32m     13\u001b[0m \u001b[39mif\u001b[39;00m site_data:\n\u001b[0;32m     14\u001b[0m     site_list \u001b[39m=\u001b[39m [{\u001b[39m'\u001b[39m\u001b[39msite_id\u001b[39m\u001b[39m'\u001b[39m: site[\u001b[39m0\u001b[39m], \u001b[39m'\u001b[39m\u001b[39msite_name\u001b[39m\u001b[39m'\u001b[39m: site[\u001b[39m1\u001b[39m]} \u001b[39mfor\u001b[39;00m site \u001b[39min\u001b[39;00m site_data]\n",
      "\u001b[1;31mNameError\u001b[0m: name 'cursor' is not defined"
     ]
    }
   ],
   "source": [
    "import pymysql\n",
    "def test(user_id):    \n",
    "    sql = 'SELECT * FROM mydb.sites WHERE users_user_id = %s'\n",
    "    values = user_id\n",
    "    host = '172.16.10.57'\n",
    "    user = 'test'\n",
    "    password = 'test'\n",
    "    database = 'mydb'\n",
    "    db = pymysql.connect(host= host, user =user, password =password, database=database)\n",
    "    curs = db.cursor()\n",
    "    curs.execute(sql, values)\n",
    "    site_data = cursor.fetchall()\n",
    "    if site_data:\n",
    "        site_list = [{'site_id': site[0], 'site_name': site[1]} for site in site_data]\n",
    "        return jsonify(site_list)\n",
    "    else:\n",
    "        return jsonify({'message': 'Site not found'}), 404\n",
    "\n",
    "data = test('12345S')"
   ]
  },
  {
   "cell_type": "code",
   "execution_count": 11,
   "metadata": {},
   "outputs": [
    {
     "name": "stdout",
     "output_type": "stream",
     "text": [
      "[{'site_id': '02', 'site_name': '12345S'}, {'site_id': '03', 'site_name': '12345S'}]\n"
     ]
    }
   ],
   "source": [
    "import pymysql\n",
    "from flask import jsonify\n",
    "\n",
    "host = '172.16.10.57'\n",
    "user = 'test'\n",
    "password = 'test'\n",
    "database = 'mydb'\n",
    "db = pymysql.connect(host= host, user =user, password =password, database=database)\n",
    "\n",
    "user_id ='12345S'\n",
    "curs = db.cursor()\n",
    "sql = 'SELECT * FROM mydb.sites WHERE users_user_id = %s'\n",
    "values = user_id\n",
    "curs.execute(sql, values)\n",
    "\n",
    "site_data = curs.fetchall()\n",
    "if site_data:\n",
    "    site_list = [{'site_id': site[0], 'site_name': site[1]} for site in site_data]\n",
    "    data = site_list\n",
    "else:\n",
    "    data = 'error'\n",
    "print( data)"
   ]
  },
  {
   "cell_type": "code",
   "execution_count": 13,
   "metadata": {},
   "outputs": [],
   "source": [
    "\n",
    "\n",
    "def change_password(user_id, current_password, new_password, confirm_password):\n",
    "    host = '172.16.10.57'\n",
    "    user = 'test'\n",
    "    password = 'test'\n",
    "    database = 'mydb'\n",
    "    db = pymysql.connect(host= host, user =user, password =password, database=database)\n",
    "    #비밀번호 확인값 확인\n",
    "    if current_password != new_password :\n",
    "        print(\"비밀번호가 같지 않습니다\")\n",
    "    \n",
    "\n",
    "    # 현재 비밀번호가 맞는지 확인\n",
    "    cursor = db.cursor()\n",
    "    sql = 'SELECT * FROM users WHERE id = %s AND password = %s'\n",
    "    values = (user_id, current_password)\n",
    "    cursor.execute(sql, values)\n",
    "    user = cursor.fetchone()\n",
    "    if user is None:\n",
    "        # return jsonify({'message': 'Invalid current password.'}), 400\n",
    "        return print(\"현재 비밀번호가 틀렸습니다\")\n",
    "    \n",
    "    # 새 비밀번호로 업데이트하기\n",
    "    sql = 'UPDATE users SET password = %s WHERE id = %s'\n",
    "    values = (new_password, user_id)\n",
    "    cursor.execute(sql, values)\n",
    "    db.commit()\n",
    "    db.close()\n",
    "    return print(\"비밀번호 변경완료\")\n",
    "    "
   ]
  },
  {
   "cell_type": "code",
   "execution_count": 14,
   "metadata": {},
   "outputs": [
    {
     "name": "stdout",
     "output_type": "stream",
     "text": [
      "비밀번호가 같지 않습니다\n"
     ]
    },
    {
     "ename": "OperationalError",
     "evalue": "(1054, \"Unknown column 'id' in 'where clause'\")",
     "output_type": "error",
     "traceback": [
      "\u001b[1;31m---------------------------------------------------------------------------\u001b[0m",
      "\u001b[1;31mOperationalError\u001b[0m                          Traceback (most recent call last)",
      "Cell \u001b[1;32mIn[14], line 5\u001b[0m\n\u001b[0;32m      3\u001b[0m new_password \u001b[39m=\u001b[39m\u001b[39m'\u001b[39m\u001b[39mpasswd_changed\u001b[39m\u001b[39m'\u001b[39m\n\u001b[0;32m      4\u001b[0m confirm_password \u001b[39m=\u001b[39m \u001b[39m'\u001b[39m\u001b[39mpasswd_changed\u001b[39m\u001b[39m'\u001b[39m\n\u001b[1;32m----> 5\u001b[0m change_password(user_id, current_password, new_password, confirm_password)\n",
      "Cell \u001b[1;32mIn[13], line 16\u001b[0m, in \u001b[0;36mchange_password\u001b[1;34m(user_id, current_password, new_password, confirm_password)\u001b[0m\n\u001b[0;32m     14\u001b[0m sql \u001b[39m=\u001b[39m \u001b[39m'\u001b[39m\u001b[39mSELECT * FROM users WHERE id = \u001b[39m\u001b[39m%s\u001b[39;00m\u001b[39m AND password = \u001b[39m\u001b[39m%s\u001b[39;00m\u001b[39m'\u001b[39m\n\u001b[0;32m     15\u001b[0m values \u001b[39m=\u001b[39m (user_id, current_password)\n\u001b[1;32m---> 16\u001b[0m cursor\u001b[39m.\u001b[39;49mexecute(sql, values)\n\u001b[0;32m     17\u001b[0m user \u001b[39m=\u001b[39m cursor\u001b[39m.\u001b[39mfetchone()\n\u001b[0;32m     18\u001b[0m \u001b[39mif\u001b[39;00m user \u001b[39mis\u001b[39;00m \u001b[39mNone\u001b[39;00m:\n\u001b[0;32m     19\u001b[0m     \u001b[39m# return jsonify({'message': 'Invalid current password.'}), 400\u001b[39;00m\n",
      "File \u001b[1;32mc:\\Users\\shyu\\Anaconda3\\envs\\smartfarm\\lib\\site-packages\\pymysql\\cursors.py:158\u001b[0m, in \u001b[0;36mCursor.execute\u001b[1;34m(self, query, args)\u001b[0m\n\u001b[0;32m    154\u001b[0m     \u001b[39mpass\u001b[39;00m\n\u001b[0;32m    156\u001b[0m query \u001b[39m=\u001b[39m \u001b[39mself\u001b[39m\u001b[39m.\u001b[39mmogrify(query, args)\n\u001b[1;32m--> 158\u001b[0m result \u001b[39m=\u001b[39m \u001b[39mself\u001b[39;49m\u001b[39m.\u001b[39;49m_query(query)\n\u001b[0;32m    159\u001b[0m \u001b[39mself\u001b[39m\u001b[39m.\u001b[39m_executed \u001b[39m=\u001b[39m query\n\u001b[0;32m    160\u001b[0m \u001b[39mreturn\u001b[39;00m result\n",
      "File \u001b[1;32mc:\\Users\\shyu\\Anaconda3\\envs\\smartfarm\\lib\\site-packages\\pymysql\\cursors.py:325\u001b[0m, in \u001b[0;36mCursor._query\u001b[1;34m(self, q)\u001b[0m\n\u001b[0;32m    323\u001b[0m conn \u001b[39m=\u001b[39m \u001b[39mself\u001b[39m\u001b[39m.\u001b[39m_get_db()\n\u001b[0;32m    324\u001b[0m \u001b[39mself\u001b[39m\u001b[39m.\u001b[39m_clear_result()\n\u001b[1;32m--> 325\u001b[0m conn\u001b[39m.\u001b[39;49mquery(q)\n\u001b[0;32m    326\u001b[0m \u001b[39mself\u001b[39m\u001b[39m.\u001b[39m_do_get_result()\n\u001b[0;32m    327\u001b[0m \u001b[39mreturn\u001b[39;00m \u001b[39mself\u001b[39m\u001b[39m.\u001b[39mrowcount\n",
      "File \u001b[1;32mc:\\Users\\shyu\\Anaconda3\\envs\\smartfarm\\lib\\site-packages\\pymysql\\connections.py:549\u001b[0m, in \u001b[0;36mConnection.query\u001b[1;34m(self, sql, unbuffered)\u001b[0m\n\u001b[0;32m    547\u001b[0m     sql \u001b[39m=\u001b[39m sql\u001b[39m.\u001b[39mencode(\u001b[39mself\u001b[39m\u001b[39m.\u001b[39mencoding, \u001b[39m\"\u001b[39m\u001b[39msurrogateescape\u001b[39m\u001b[39m\"\u001b[39m)\n\u001b[0;32m    548\u001b[0m \u001b[39mself\u001b[39m\u001b[39m.\u001b[39m_execute_command(COMMAND\u001b[39m.\u001b[39mCOM_QUERY, sql)\n\u001b[1;32m--> 549\u001b[0m \u001b[39mself\u001b[39m\u001b[39m.\u001b[39m_affected_rows \u001b[39m=\u001b[39m \u001b[39mself\u001b[39;49m\u001b[39m.\u001b[39;49m_read_query_result(unbuffered\u001b[39m=\u001b[39;49munbuffered)\n\u001b[0;32m    550\u001b[0m \u001b[39mreturn\u001b[39;00m \u001b[39mself\u001b[39m\u001b[39m.\u001b[39m_affected_rows\n",
      "File \u001b[1;32mc:\\Users\\shyu\\Anaconda3\\envs\\smartfarm\\lib\\site-packages\\pymysql\\connections.py:779\u001b[0m, in \u001b[0;36mConnection._read_query_result\u001b[1;34m(self, unbuffered)\u001b[0m\n\u001b[0;32m    777\u001b[0m \u001b[39melse\u001b[39;00m:\n\u001b[0;32m    778\u001b[0m     result \u001b[39m=\u001b[39m MySQLResult(\u001b[39mself\u001b[39m)\n\u001b[1;32m--> 779\u001b[0m     result\u001b[39m.\u001b[39;49mread()\n\u001b[0;32m    780\u001b[0m \u001b[39mself\u001b[39m\u001b[39m.\u001b[39m_result \u001b[39m=\u001b[39m result\n\u001b[0;32m    781\u001b[0m \u001b[39mif\u001b[39;00m result\u001b[39m.\u001b[39mserver_status \u001b[39mis\u001b[39;00m \u001b[39mnot\u001b[39;00m \u001b[39mNone\u001b[39;00m:\n",
      "File \u001b[1;32mc:\\Users\\shyu\\Anaconda3\\envs\\smartfarm\\lib\\site-packages\\pymysql\\connections.py:1157\u001b[0m, in \u001b[0;36mMySQLResult.read\u001b[1;34m(self)\u001b[0m\n\u001b[0;32m   1155\u001b[0m \u001b[39mdef\u001b[39;00m \u001b[39mread\u001b[39m(\u001b[39mself\u001b[39m):\n\u001b[0;32m   1156\u001b[0m     \u001b[39mtry\u001b[39;00m:\n\u001b[1;32m-> 1157\u001b[0m         first_packet \u001b[39m=\u001b[39m \u001b[39mself\u001b[39;49m\u001b[39m.\u001b[39;49mconnection\u001b[39m.\u001b[39;49m_read_packet()\n\u001b[0;32m   1159\u001b[0m         \u001b[39mif\u001b[39;00m first_packet\u001b[39m.\u001b[39mis_ok_packet():\n\u001b[0;32m   1160\u001b[0m             \u001b[39mself\u001b[39m\u001b[39m.\u001b[39m_read_ok_packet(first_packet)\n",
      "File \u001b[1;32mc:\\Users\\shyu\\Anaconda3\\envs\\smartfarm\\lib\\site-packages\\pymysql\\connections.py:729\u001b[0m, in \u001b[0;36mConnection._read_packet\u001b[1;34m(self, packet_type)\u001b[0m\n\u001b[0;32m    727\u001b[0m     \u001b[39mif\u001b[39;00m \u001b[39mself\u001b[39m\u001b[39m.\u001b[39m_result \u001b[39mis\u001b[39;00m \u001b[39mnot\u001b[39;00m \u001b[39mNone\u001b[39;00m \u001b[39mand\u001b[39;00m \u001b[39mself\u001b[39m\u001b[39m.\u001b[39m_result\u001b[39m.\u001b[39munbuffered_active \u001b[39mis\u001b[39;00m \u001b[39mTrue\u001b[39;00m:\n\u001b[0;32m    728\u001b[0m         \u001b[39mself\u001b[39m\u001b[39m.\u001b[39m_result\u001b[39m.\u001b[39munbuffered_active \u001b[39m=\u001b[39m \u001b[39mFalse\u001b[39;00m\n\u001b[1;32m--> 729\u001b[0m     packet\u001b[39m.\u001b[39;49mraise_for_error()\n\u001b[0;32m    730\u001b[0m \u001b[39mreturn\u001b[39;00m packet\n",
      "File \u001b[1;32mc:\\Users\\shyu\\Anaconda3\\envs\\smartfarm\\lib\\site-packages\\pymysql\\protocol.py:221\u001b[0m, in \u001b[0;36mMysqlPacket.raise_for_error\u001b[1;34m(self)\u001b[0m\n\u001b[0;32m    219\u001b[0m \u001b[39mif\u001b[39;00m DEBUG:\n\u001b[0;32m    220\u001b[0m     \u001b[39mprint\u001b[39m(\u001b[39m\"\u001b[39m\u001b[39merrno =\u001b[39m\u001b[39m\"\u001b[39m, errno)\n\u001b[1;32m--> 221\u001b[0m err\u001b[39m.\u001b[39;49mraise_mysql_exception(\u001b[39mself\u001b[39;49m\u001b[39m.\u001b[39;49m_data)\n",
      "File \u001b[1;32mc:\\Users\\shyu\\Anaconda3\\envs\\smartfarm\\lib\\site-packages\\pymysql\\err.py:143\u001b[0m, in \u001b[0;36mraise_mysql_exception\u001b[1;34m(data)\u001b[0m\n\u001b[0;32m    141\u001b[0m \u001b[39mif\u001b[39;00m errorclass \u001b[39mis\u001b[39;00m \u001b[39mNone\u001b[39;00m:\n\u001b[0;32m    142\u001b[0m     errorclass \u001b[39m=\u001b[39m InternalError \u001b[39mif\u001b[39;00m errno \u001b[39m<\u001b[39m \u001b[39m1000\u001b[39m \u001b[39melse\u001b[39;00m OperationalError\n\u001b[1;32m--> 143\u001b[0m \u001b[39mraise\u001b[39;00m errorclass(errno, errval)\n",
      "\u001b[1;31mOperationalError\u001b[0m: (1054, \"Unknown column 'id' in 'where clause'\")"
     ]
    }
   ],
   "source": [
    "user_id = 'new'\n",
    "current_password = 'new'\n",
    "new_password ='new2'\n",
    "confirm_password = 'new3'\n",
    "change_password(user_id, current_password, new_password, confirm_password)"
   ]
  }
 ],
 "metadata": {
  "kernelspec": {
   "display_name": "smartfarm",
   "language": "python",
   "name": "python3"
  },
  "language_info": {
   "codemirror_mode": {
    "name": "ipython",
    "version": 3
   },
   "file_extension": ".py",
   "mimetype": "text/x-python",
   "name": "python",
   "nbconvert_exporter": "python",
   "pygments_lexer": "ipython3",
   "version": "3.9.16"
  },
  "orig_nbformat": 4
 },
 "nbformat": 4,
 "nbformat_minor": 2
}
